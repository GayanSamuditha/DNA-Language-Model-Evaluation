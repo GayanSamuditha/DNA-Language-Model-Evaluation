{
 "cells": [
  {
   "cell_type": "code",
   "execution_count": 2,
   "id": "dbc58359",
   "metadata": {},
   "outputs": [],
   "source": [
    "from transformers import AutoTokenizer, AutoModel\n",
    "import os\n",
    "import torch\n",
    "import pandas as pd\n",
    "import numpy as np\n",
    "import time\n",
    "from tqdm import tqdm"
   ]
  },
  {
   "cell_type": "code",
   "execution_count": null,
   "id": "0cbd12ae",
   "metadata": {
    "scrolled": true
   },
   "outputs": [],
   "source": [
    "# !pip3 install --upgrade --user transformers\n",
    "# !pip3 install --upgrade --user transformers tokenizers\n",
    "!pip3 install --upgrade --user torchvision pillow"
   ]
  },
  {
   "cell_type": "code",
   "execution_count": 3,
   "id": "6509e362",
   "metadata": {},
   "outputs": [
    {
     "data": {
      "application/vnd.jupyter.widget-view+json": {
       "model_id": "ac7b76a006ed432a8c022ae60b606509",
       "version_major": 2,
       "version_minor": 0
      },
      "text/plain": [
       "pytorch_model.bin:   0%|          | 0.00/1.48G [00:00<?, ?B/s]"
      ]
     },
     "metadata": {},
     "output_type": "display_data"
    },
    {
     "data": {
      "application/vnd.jupyter.widget-view+json": {
       "model_id": "776c5e1e15684786bc60bc81f2d60087",
       "version_major": 2,
       "version_minor": 0
      },
      "text/plain": [
       "model.safetensors:   0%|          | 0.00/1.48G [00:00<?, ?B/s]"
      ]
     },
     "metadata": {},
     "output_type": "display_data"
    },
    {
     "data": {
      "text/plain": [
       "BertForMaskedLM(\n",
       "  (bert): BertModel(\n",
       "    (embeddings): BertEmbeddings(\n",
       "      (word_embeddings): Embedding(32000, 1024, padding_idx=3)\n",
       "      (position_embeddings): Embedding(512, 1024)\n",
       "      (token_type_embeddings): Embedding(2, 1024)\n",
       "      (LayerNorm): LayerNorm((1024,), eps=1e-05, elementwise_affine=True)\n",
       "      (dropout): Dropout(p=0.1, inplace=False)\n",
       "    )\n",
       "    (encoder): BertEncoder(\n",
       "      (layer): ModuleList(\n",
       "        (0-23): 24 x BertLayer(\n",
       "          (pre_attention_ln): LayerNorm((1024,), eps=1e-05, elementwise_affine=True)\n",
       "          (post_attention_ln): LayerNorm((1024,), eps=1e-05, elementwise_affine=True)\n",
       "          (attention): BertAttention(\n",
       "            (self): BertSelfAttention(\n",
       "              (query): Linear(in_features=1024, out_features=1024, bias=True)\n",
       "              (key): Linear(in_features=1024, out_features=1024, bias=True)\n",
       "              (value): Linear(in_features=1024, out_features=1024, bias=True)\n",
       "              (dropout): Dropout(p=0.1, inplace=False)\n",
       "              (softmax): Softmax(dim=-1)\n",
       "            )\n",
       "            (output): BertSelfOutput(\n",
       "              (dense): Linear(in_features=1024, out_features=1024, bias=True)\n",
       "              (dropout): Dropout(p=0.1, inplace=False)\n",
       "            )\n",
       "          )\n",
       "          (intermediate): BertIntermediate(\n",
       "            (dense): Linear(in_features=1024, out_features=4096, bias=True)\n",
       "            (intermediate_act_fn): GELUActivation()\n",
       "          )\n",
       "          (output): BertOutput(\n",
       "            (dense): Linear(in_features=4096, out_features=1024, bias=True)\n",
       "            (dropout): Dropout(p=0.1, inplace=False)\n",
       "          )\n",
       "        )\n",
       "      )\n",
       "      (last_layer_ln): LayerNorm((1024,), eps=1e-05, elementwise_affine=True)\n",
       "    )\n",
       "  )\n",
       "  (cls): BertOnlyMLMHead(\n",
       "    (predictions): BertLMPredictionHead(\n",
       "      (transform): BertPredictionHeadTransform(\n",
       "        (dense): Linear(in_features=1024, out_features=1024, bias=True)\n",
       "        (transform_act_fn): GELUActivation()\n",
       "        (LayerNorm): LayerNorm((1024,), eps=1e-05, elementwise_affine=True)\n",
       "      )\n",
       "      (decoder): Linear(in_features=1024, out_features=32000, bias=True)\n",
       "    )\n",
       "  )\n",
       ")"
      ]
     },
     "execution_count": 3,
     "metadata": {},
     "output_type": "execute_result"
    }
   ],
   "source": [
    "# Load GENA-LM model and tokenizer\n",
    "tokenizer = AutoTokenizer.from_pretrained(\"AIRI-Institute/gena-lm-bert-large-t2t\")\n",
    "model = AutoModel.from_pretrained(\"AIRI-Institute/gena-lm-bert-large-t2t\", trust_remote_code=True)\n",
    "model.eval()"
   ]
  },
  {
   "cell_type": "code",
   "execution_count": 21,
   "id": "de1f45fd",
   "metadata": {},
   "outputs": [],
   "source": [
    "# Set directories\n",
    "datasets_folder = '/.../.../.../.../Unsupervised_Evaluation_LLM/PaperWork/datasets/'\n",
    "output_folder_path = \"/.../.../.../.../Unsupervised_Evaluation_LLM/PaperWork/genalm\"\n",
    "os.makedirs(output_folder_path, exist_ok=True)"
   ]
  },
  {
   "cell_type": "code",
   "execution_count": 22,
   "id": "0d1d4128",
   "metadata": {},
   "outputs": [],
   "source": [
    "csv_files = [file for file in os.listdir(datasets_folder) if file.endswith('.csv')]\n",
    "time_records = []"
   ]
  },
  {
   "cell_type": "code",
   "execution_count": 23,
   "id": "e438ed5d",
   "metadata": {},
   "outputs": [
    {
     "data": {
      "text/plain": [
       "['test_demo_coding_vs_intergenomic_seqs.csv',\n",
       " 'test_human_enhancers_cohn.csv',\n",
       " 'test_human_enhancers_ensembl.csv',\n",
       " 'test_human_ensembl_regulatory.csv',\n",
       " 'test_human_nontata_promoters.csv',\n",
       " 'test_human_ocr_ensembl.csv',\n",
       " 'train_demo_coding_vs_intergenomic_seqs.csv',\n",
       " 'train_human_enhancers_cohn.csv',\n",
       " 'train_human_enhancers_ensembl.csv',\n",
       " 'train_human_ensembl_regulatory.csv',\n",
       " 'train_human_nontata_promoters.csv',\n",
       " 'train_human_ocr_ensembl.csv']"
      ]
     },
     "execution_count": 23,
     "metadata": {},
     "output_type": "execute_result"
    }
   ],
   "source": [
    "csv_files"
   ]
  },
  {
   "cell_type": "code",
   "execution_count": 24,
   "id": "12948209",
   "metadata": {},
   "outputs": [
    {
     "name": "stdout",
     "output_type": "stream",
     "text": [
      "[]\n"
     ]
    }
   ],
   "source": [
    "target_files = {\n",
    "     ''\n",
    "}\n",
    "\n",
    "# Filter only the desired CSV files\n",
    "csv_files = [file for file in os.listdir(datasets_folder)\n",
    "             if file.endswith('.csv') and file in target_files]\n",
    "\n",
    "# Initialize time_records\n",
    "time_records = []\n",
    "\n",
    "print(csv_files)"
   ]
  },
  {
   "cell_type": "code",
   "execution_count": 18,
   "id": "09b34742",
   "metadata": {},
   "outputs": [],
   "source": [
    "# Embedding function\n",
    "def calculate_mean_embedding(sequence):\n",
    "    inputs = tokenizer(sequence, return_tensors='pt', truncation=True, padding=True)\n",
    "    with torch.no_grad():\n",
    "        hidden_states = model(**inputs, output_hidden_states=True).hidden_states[-1]\n",
    "    embedding_mean = hidden_states.mean(dim=1).squeeze().detach().numpy()\n",
    "    return embedding_mean"
   ]
  },
  {
   "cell_type": "code",
   "execution_count": 19,
   "id": "5663a5a4",
   "metadata": {},
   "outputs": [
    {
     "name": "stdout",
     "output_type": "stream",
     "text": [
      "(20843, 2)\n"
     ]
    },
    {
     "name": "stderr",
     "output_type": "stream",
     "text": [
      "  0%|          | 0/20843 [00:00<?, ?it/s]/home/rxa615/.local/lib/python3.10/site-packages/transformers/modeling_utils.py:1614: FutureWarning: The `device` argument is deprecated and will be removed in v5 of Transformers.\n",
      "  warnings.warn(\n",
      "100%|██████████| 20843/20843 [1:16:00<00:00,  4.57it/s]  \n"
     ]
    },
    {
     "name": "stdout",
     "output_type": "stream",
     "text": [
      "Embeddings saved to: /.../.../.../.../Unsupervised_Evaluation_LLM/PaperWork/genalm/train_human_enhancers_cohn_GENALM_Embeddings.npy\n"
     ]
    }
   ],
   "source": [
    "# Process each file\n",
    "for csv_file in csv_files:\n",
    "    file_path = os.path.join(datasets_folder, csv_file)\n",
    "    df = pd.read_csv(file_path)\n",
    "    print(df.shape)\n",
    "    \n",
    "    start_time = time.time()\n",
    "    tqdm.pandas()\n",
    "    df['mean_embedding'] = df['seq'].progress_apply(calculate_mean_embedding)\n",
    "    time_taken = time.time() - start_time\n",
    "\n",
    "    embedding_file_path = os.path.join(output_folder_path, os.path.splitext(csv_file)[0] + \"_GENALM_Embeddings.npy\")\n",
    "    np.save(embedding_file_path, df['mean_embedding'].values)\n",
    "    print(f\"Embeddings saved to: {embedding_file_path}\")\n",
    "    \n",
    "    time_records.append({'file_name': csv_file, 'time_taken': time_taken})"
   ]
  },
  {
   "cell_type": "code",
   "execution_count": null,
   "id": "ce8088ee",
   "metadata": {},
   "outputs": [],
   "source": []
  }
 ],
 "metadata": {
  "kernelspec": {
   "display_name": "Python 3 (ipykernel)",
   "language": "python",
   "name": "python3"
  },
  "language_info": {
   "codemirror_mode": {
    "name": "ipython",
    "version": 3
   },
   "file_extension": ".py",
   "mimetype": "text/x-python",
   "name": "python",
   "nbconvert_exporter": "python",
   "pygments_lexer": "ipython3",
   "version": "3.10.4"
  }
 },
 "nbformat": 4,
 "nbformat_minor": 5
}
