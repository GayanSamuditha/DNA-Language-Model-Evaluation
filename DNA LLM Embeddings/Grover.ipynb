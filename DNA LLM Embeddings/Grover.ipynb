{
 "cells": [
  {
   "cell_type": "code",
   "execution_count": 4,
   "id": "672b8d58",
   "metadata": {},
   "outputs": [],
   "source": [
    "from transformers import AutoTokenizer, AutoModelForMaskedLM\n",
    "import os\n",
    "import torch\n",
    "import pandas as pd\n",
    "import numpy as np\n",
    "import time\n",
    "from tqdm import tqdm"
   ]
  },
  {
   "cell_type": "code",
   "execution_count": 5,
   "id": "76f3ade5",
   "metadata": {
    "scrolled": true
   },
   "outputs": [
    {
     "name": "stderr",
     "output_type": "stream",
     "text": [
      "Some weights of the model checkpoint at PoetschLab/GROVER were not used when initializing BertForMaskedLM: ['bert.pooler.dense.bias', 'bert.pooler.dense.weight']\n",
      "- This IS expected if you are initializing BertForMaskedLM from the checkpoint of a model trained on another task or with another architecture (e.g. initializing a BertForSequenceClassification model from a BertForPreTraining model).\n",
      "- This IS NOT expected if you are initializing BertForMaskedLM from the checkpoint of a model that you expect to be exactly identical (initializing a BertForSequenceClassification model from a BertForSequenceClassification model).\n"
     ]
    },
    {
     "data": {
      "text/plain": [
       "BertForMaskedLM(\n",
       "  (bert): BertModel(\n",
       "    (embeddings): BertEmbeddings(\n",
       "      (word_embeddings): Embedding(609, 768, padding_idx=0)\n",
       "      (position_embeddings): Embedding(512, 768)\n",
       "      (token_type_embeddings): Embedding(2, 768)\n",
       "      (LayerNorm): LayerNorm((768,), eps=1e-12, elementwise_affine=True)\n",
       "      (dropout): Dropout(p=0.1, inplace=False)\n",
       "    )\n",
       "    (encoder): BertEncoder(\n",
       "      (layer): ModuleList(\n",
       "        (0-11): 12 x BertLayer(\n",
       "          (attention): BertAttention(\n",
       "            (self): BertSdpaSelfAttention(\n",
       "              (query): Linear(in_features=768, out_features=768, bias=True)\n",
       "              (key): Linear(in_features=768, out_features=768, bias=True)\n",
       "              (value): Linear(in_features=768, out_features=768, bias=True)\n",
       "              (dropout): Dropout(p=0.1, inplace=False)\n",
       "            )\n",
       "            (output): BertSelfOutput(\n",
       "              (dense): Linear(in_features=768, out_features=768, bias=True)\n",
       "              (LayerNorm): LayerNorm((768,), eps=1e-12, elementwise_affine=True)\n",
       "              (dropout): Dropout(p=0.1, inplace=False)\n",
       "            )\n",
       "          )\n",
       "          (intermediate): BertIntermediate(\n",
       "            (dense): Linear(in_features=768, out_features=3072, bias=True)\n",
       "            (intermediate_act_fn): GELUActivation()\n",
       "          )\n",
       "          (output): BertOutput(\n",
       "            (dense): Linear(in_features=3072, out_features=768, bias=True)\n",
       "            (LayerNorm): LayerNorm((768,), eps=1e-12, elementwise_affine=True)\n",
       "            (dropout): Dropout(p=0.1, inplace=False)\n",
       "          )\n",
       "        )\n",
       "      )\n",
       "    )\n",
       "  )\n",
       "  (cls): BertOnlyMLMHead(\n",
       "    (predictions): BertLMPredictionHead(\n",
       "      (transform): BertPredictionHeadTransform(\n",
       "        (dense): Linear(in_features=768, out_features=768, bias=True)\n",
       "        (transform_act_fn): GELUActivation()\n",
       "        (LayerNorm): LayerNorm((768,), eps=1e-12, elementwise_affine=True)\n",
       "      )\n",
       "      (decoder): Linear(in_features=768, out_features=609, bias=True)\n",
       "    )\n",
       "  )\n",
       ")"
      ]
     },
     "execution_count": 5,
     "metadata": {},
     "output_type": "execute_result"
    }
   ],
   "source": [
    "# Load GROVER model\n",
    "tokenizer = AutoTokenizer.from_pretrained(\"PoetschLab/GROVER\")\n",
    "model = AutoModelForMaskedLM.from_pretrained(\"PoetschLab/GROVER\")\n",
    "model.eval()"
   ]
  },
  {
   "cell_type": "code",
   "execution_count": 18,
   "id": "1335714d",
   "metadata": {},
   "outputs": [],
   "source": [
    "# Set directories\n",
    "datasets_folder = '/.../.../.../Unsupervised_Embedding_Evaluation/datasets/'\n",
    "output_folder_path = \"/.../.../.../Unsupervised_Embedding_Evaluation/Embeddings/grover\"\n",
    "os.makedirs(output_folder_path, exist_ok=True)\n"
   ]
  },
  {
   "cell_type": "code",
   "execution_count": 22,
   "id": "cd10bae0",
   "metadata": {},
   "outputs": [],
   "source": [
    "csv_files = [file for file in os.listdir(datasets_folder) if file.endswith('.csv')]\n",
    "time_records = []"
   ]
  },
  {
   "cell_type": "code",
   "execution_count": 23,
   "id": "d25807bf",
   "metadata": {},
   "outputs": [
    {
     "data": {
      "text/plain": [
       "['test_human_enhancers_ensembl.csv',\n",
       " 'train_demo_coding_vs_intergenomic_seqs.csv',\n",
       " 'test_demo_coding_vs_intergenomic_seqs.csv',\n",
       " 'train_human_enhancers_ensembl.csv',\n",
       " 'train_human_enhancers_cohn.csv',\n",
       " 'train_human_nontata_promoters.csv',\n",
       " 'test_human_nontata_promoters.csv',\n",
       " 'test_human_enhancers_cohn.csv']"
      ]
     },
     "execution_count": 23,
     "metadata": {},
     "output_type": "execute_result"
    }
   ],
   "source": [
    "csv_files"
   ]
  },
  {
   "cell_type": "code",
   "execution_count": 24,
   "id": "90cfb20d",
   "metadata": {},
   "outputs": [
    {
     "data": {
      "text/plain": [
       "['train_demo_coding_vs_intergenomic_seqs.csv',\n",
       " 'test_demo_coding_vs_intergenomic_seqs.csv',\n",
       " 'train_human_enhancers_ensembl.csv',\n",
       " 'train_human_enhancers_cohn.csv',\n",
       " 'train_human_nontata_promoters.csv',\n",
       " 'test_human_nontata_promoters.csv',\n",
       " 'test_human_enhancers_cohn.csv']"
      ]
     },
     "execution_count": 24,
     "metadata": {},
     "output_type": "execute_result"
    }
   ],
   "source": [
    "csv_files = csv_files[1:8]\n",
    "csv_files"
   ]
  },
  {
   "cell_type": "code",
   "execution_count": 25,
   "id": "cda27ea8",
   "metadata": {},
   "outputs": [],
   "source": [
    "# Embedding function\n",
    "def calculate_mean_embedding(sequence):\n",
    "    inputs = tokenizer(sequence, return_tensors='pt', truncation=True, padding=True)\n",
    "    with torch.no_grad():\n",
    "        hidden_states = model(**inputs, output_hidden_states=True).hidden_states[-1]\n",
    "    embedding_mean = hidden_states.mean(dim=1).squeeze().detach().numpy()\n",
    "    return embedding_mean"
   ]
  },
  {
   "cell_type": "code",
   "execution_count": 26,
   "id": "f6eaf883",
   "metadata": {},
   "outputs": [
    {
     "name": "stdout",
     "output_type": "stream",
     "text": [
      "(75000, 2)\n"
     ]
    },
    {
     "name": "stderr",
     "output_type": "stream",
     "text": [
      "100%|██████████| 75000/75000 [2:37:31<00:00,  7.94it/s]  \n"
     ]
    },
    {
     "name": "stdout",
     "output_type": "stream",
     "text": [
      "Embeddings saved to: /.../.../.../Unsupervised_Embedding_Evaluation/Embeddings/grover/train_demo_coding_vs_intergenomic_seqs_GROVER_Embeddings.npy\n",
      "(25000, 2)\n"
     ]
    },
    {
     "name": "stderr",
     "output_type": "stream",
     "text": [
      "100%|██████████| 25000/25000 [52:39<00:00,  7.91it/s]\n"
     ]
    },
    {
     "name": "stdout",
     "output_type": "stream",
     "text": [
      "Embeddings saved to: /.../.../.../Unsupervised_Embedding_Evaluation/Embeddings/grover/test_demo_coding_vs_intergenomic_seqs_GROVER_Embeddings.npy\n",
      "(123872, 2)\n"
     ]
    },
    {
     "name": "stderr",
     "output_type": "stream",
     "text": [
      "100%|██████████| 123872/123872 [4:58:59<00:00,  6.90it/s]  \n"
     ]
    },
    {
     "name": "stdout",
     "output_type": "stream",
     "text": [
      "Embeddings saved to: /.../.../.../Unsupervised_Embedding_Evaluation/Embeddings/grover/train_human_enhancers_ensembl_GROVER_Embeddings.npy\n",
      "(20843, 2)\n"
     ]
    },
    {
     "name": "stderr",
     "output_type": "stream",
     "text": [
      "100%|██████████| 20843/20843 [1:15:30<00:00,  4.60it/s]\n"
     ]
    },
    {
     "name": "stdout",
     "output_type": "stream",
     "text": [
      "Embeddings saved to: /.../.../.../Unsupervised_Embedding_Evaluation/Embeddings/grover/train_human_enhancers_cohn_GROVER_Embeddings.npy\n",
      "(27097, 2)\n"
     ]
    },
    {
     "name": "stderr",
     "output_type": "stream",
     "text": [
      "100%|██████████| 27097/27097 [1:06:14<00:00,  6.82it/s]\n"
     ]
    },
    {
     "name": "stdout",
     "output_type": "stream",
     "text": [
      "Embeddings saved to: /.../.../.../Unsupervised_Embedding_Evaluation/Embeddings/grover/train_human_nontata_promoters_GROVER_Embeddings.npy\n",
      "(9034, 2)\n"
     ]
    },
    {
     "name": "stderr",
     "output_type": "stream",
     "text": [
      "100%|██████████| 9034/9034 [22:02<00:00,  6.83it/s]\n"
     ]
    },
    {
     "name": "stdout",
     "output_type": "stream",
     "text": [
      "Embeddings saved to: /.../.../.../Unsupervised_Embedding_Evaluation/Embeddings/grover/test_human_nontata_promoters_GROVER_Embeddings.npy\n",
      "(6948, 2)\n"
     ]
    },
    {
     "name": "stderr",
     "output_type": "stream",
     "text": [
      "100%|██████████| 6948/6948 [24:51<00:00,  4.66it/s]"
     ]
    },
    {
     "name": "stdout",
     "output_type": "stream",
     "text": [
      "Embeddings saved to: /.../.../.../Unsupervised_Embedding_Evaluation/Embeddings/grover/test_human_enhancers_cohn_GROVER_Embeddings.npy\n"
     ]
    },
    {
     "name": "stderr",
     "output_type": "stream",
     "text": [
      "\n"
     ]
    }
   ],
   "source": [
    "# Process each file\n",
    "for csv_file in csv_files:\n",
    "    file_path = os.path.join(datasets_folder, csv_file)\n",
    "    df = pd.read_csv(file_path)\n",
    "    print(df.shape)\n",
    "    \n",
    "    start_time = time.time()\n",
    "    tqdm.pandas()\n",
    "    df['mean_embedding'] = df['seq'].progress_apply(calculate_mean_embedding)\n",
    "    time_taken = time.time() - start_time\n",
    "\n",
    "    embedding_file_path = os.path.join(output_folder_path, os.path.splitext(csv_file)[0] + \"_GROVER_Embeddings.npy\")\n",
    "    np.save(embedding_file_path, df['mean_embedding'].values)\n",
    "    print(f\"Embeddings saved to: {embedding_file_path}\")\n",
    "    \n",
    "    time_records.append({'file_name': csv_file, 'time_taken': time_taken})\n",
    "\n",
    "# Save time log\n",
    "time_df = pd.DataFrame(time_records)\n",
    "time_df.to_csv(os.path.join(output_folder_path, \"grover_time_calculation.csv\"), index=False)"
   ]
  },
  {
   "cell_type": "code",
   "execution_count": null,
   "id": "e87fe431",
   "metadata": {},
   "outputs": [],
   "source": []
  }
 ],
 "metadata": {
  "kernelspec": {
   "display_name": "Python 3.9 (Conda 2022.05) [python/3.9-2022.05]",
   "language": "python",
   "name": "python39_202205"
  },
  "language_info": {
   "codemirror_mode": {
    "name": "ipython",
    "version": 3
   },
   "file_extension": ".py",
   "mimetype": "text/x-python",
   "name": "python",
   "nbconvert_exporter": "python",
   "pygments_lexer": "ipython3",
   "version": "3.9.12"
  }
 },
 "nbformat": 4,
 "nbformat_minor": 5
}
