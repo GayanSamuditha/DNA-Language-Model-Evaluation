{
 "cells": [
  {
   "cell_type": "code",
   "execution_count": null,
   "id": "1ffb2d8f",
   "metadata": {
    "scrolled": true
   },
   "outputs": [],
   "source": [
    "#!pip3 install transformers -U "
   ]
  },
  {
   "cell_type": "code",
   "execution_count": 1,
   "id": "0ecec017",
   "metadata": {},
   "outputs": [],
   "source": [
    "from transformers import AutoTokenizer, AutoModel\n",
    "import os\n",
    "import torch\n",
    "from Bio import SeqIO\n",
    "import math\n",
    "import pandas as pd\n",
    "import numpy as np\n",
    "from sklearn.feature_extraction.text import CountVectorizer\n",
    "import time\n",
    "from tqdm import tqdm"
   ]
  },
  {
   "cell_type": "code",
   "execution_count": 2,
   "id": "e1bb5c8d",
   "metadata": {},
   "outputs": [
    {
     "data": {
      "application/vnd.jupyter.widget-view+json": {
       "model_id": "5e204a846ed84533995354749e243bc2",
       "version_major": 2,
       "version_minor": 0
      },
      "text/plain": [
       "model.safetensors:   0%|          | 0.00/420M [00:00<?, ?B/s]"
      ]
     },
     "metadata": {},
     "output_type": "display_data"
    }
   ],
   "source": [
    "tokenizer = AutoTokenizer.from_pretrained(\"RaphaelMourad/Mistral-DNA-v0.1\", trust_remote_code=True) # Same as DNABERT2\n",
    "model = AutoModel.from_pretrained(\"RaphaelMourad/Mistral-DNA-v0.1\", trust_remote_code=True)"
   ]
  },
  {
   "cell_type": "code",
   "execution_count": 3,
   "id": "4e15d35a",
   "metadata": {},
   "outputs": [
    {
     "data": {
      "text/plain": [
       "'/.../.../.../Unsupervised_Embedding_Evaluation'"
      ]
     },
     "execution_count": 3,
     "metadata": {},
     "output_type": "execute_result"
    }
   ],
   "source": [
    "import os\n",
    "os.getcwd()"
   ]
  },
  {
   "cell_type": "code",
   "execution_count": 4,
   "id": "a7c29add",
   "metadata": {},
   "outputs": [],
   "source": [
    "os.chdir('/.../.../.../Unsupervised_Embedding_Evaluation/datasets/')"
   ]
  },
  {
   "cell_type": "code",
   "execution_count": 8,
   "id": "9db5b5a2",
   "metadata": {},
   "outputs": [],
   "source": [
    "datasets_folder = '/.../.../.../Unsupervised_Embedding_Evaluation/datasets/'\n",
    "csv_files = [file for file in os.listdir(datasets_folder) if file.endswith('.csv')]"
   ]
  },
  {
   "cell_type": "code",
   "execution_count": 9,
   "id": "57059597",
   "metadata": {},
   "outputs": [
    {
     "data": {
      "text/plain": [
       "['test_human_enhancers_ensembl.csv',\n",
       " 'train_human_ensembl_regulatory.csv',\n",
       " 'test_human_ensembl_regulatory.csv',\n",
       " 'train_demo_coding_vs_intergenomic_seqs.csv',\n",
       " 'test_demo_coding_vs_intergenomic_seqs.csv',\n",
       " 'train_human_enhancers_ensembl.csv',\n",
       " 'train_human_ocr_ensembl.csv',\n",
       " 'test_human_ocr_ensembl.csv',\n",
       " 'train_human_enhancers_cohn.csv',\n",
       " 'train_human_nontata_promoters.csv',\n",
       " 'test_human_nontata_promoters.csv',\n",
       " 'test_human_enhancers_cohn.csv']"
      ]
     },
     "execution_count": 9,
     "metadata": {},
     "output_type": "execute_result"
    }
   ],
   "source": [
    "csv_files"
   ]
  },
  {
   "cell_type": "code",
   "execution_count": 10,
   "id": "194ab0b0",
   "metadata": {},
   "outputs": [],
   "source": [
    "from tqdm import tqdm\n",
    "\n",
    "# Define a function to calculate mean embedding\n",
    "def calculate_mean_embedding(sequence):\n",
    "    inputs = tokenizer(sequence, return_tensors='pt')[\"input_ids\"]\n",
    "    with torch.no_grad():\n",
    "        hidden_states = model(inputs)[0]  # [1, sequence_length, 768]\n",
    "\n",
    "    # Embedding with mean pooling\n",
    "    embedding_mean = torch.mean(hidden_states, dim=1).squeeze()  # Calculate mean along the sequence length\n",
    "    # Convert torch tensor to numpy array\n",
    "    embedding_mean_np = embedding_mean.detach().numpy()\n",
    "\n",
    "    return embedding_mean_np\n"
   ]
  },
  {
   "cell_type": "code",
   "execution_count": 2,
   "id": "becad18b",
   "metadata": {},
   "outputs": [],
   "source": [
    "# Folder path to save the embeddings and the time calculation file\n",
    "output_folder_path = \"/.../.../.../Unsupervised_Embedding_Evaluation/Embeddings/mistral\"\n",
    "if not os.path.exists(output_folder_path):\n",
    "    os.makedirs(output_folder_path)\n",
    "\n",
    "# List to store the time taken for each file\n",
    "time_records = []\n",
    "\n",
    "# Apply the calculate_mean_embedding function to each CSV file\n",
    "for csv_file in csv_files:\n",
    "    file_path = os.path.join(datasets_folder, csv_file)\n",
    "    df = pd.read_csv(file_path)\n",
    "    print(df.shape)\n",
    "    # Measure the time taken to calculate the mean embeddings\n",
    "    start_time = time.time()\n",
    "    tqdm.pandas()\n",
    "    df['mean_embedding'] = df['seq'].progress_apply(calculate_mean_embedding)\n",
    "    end_time = time.time()\n",
    "    time_taken = end_time - start_time\n",
    "\n",
    "    # Save the time taken for the current file\n",
    "    time_records.append({'file_name': csv_file, 'time_taken': time_taken})\n",
    "\n",
    "    # Save the 'mean_embedding' column as a numpy array\n",
    "    embedding_file_path = os.path.join(output_folder_path, os.path.splitext(csv_file)[0] + \"_Mistral_Embeddings.npy\")\n",
    "    np.save(embedding_file_path, df['mean_embedding'].values)\n",
    "\n",
    "    print(f\"Embeddings saved successfully at: {embedding_file_path}\")\n",
    "\n",
    "# Save the time calculation records to a CSV file\n",
    "time_df = pd.DataFrame(time_records)\n",
    "time_csv_path = os.path.join(output_folder_path, \"mistral_time_calculation.csv\")\n",
    "time_df.to_csv(time_csv_path, index=False)\n",
    "\n",
    "print(f\"Time calculations saved successfully at: {time_csv_path}\")\n"
   ]
  },
  {
   "cell_type": "code",
   "execution_count": null,
   "id": "511f0381",
   "metadata": {},
   "outputs": [],
   "source": []
  }
 ],
 "metadata": {
  "kernelspec": {
   "display_name": "Python 3.9 (Conda 2022.05) [python/3.9-2022.05]",
   "language": "python",
   "name": "python39_202205"
  },
  "language_info": {
   "codemirror_mode": {
    "name": "ipython",
    "version": 3
   },
   "file_extension": ".py",
   "mimetype": "text/x-python",
   "name": "python",
   "nbconvert_exporter": "python",
   "pygments_lexer": "ipython3",
   "version": "3.9.12"
  }
 },
 "nbformat": 4,
 "nbformat_minor": 5
}
